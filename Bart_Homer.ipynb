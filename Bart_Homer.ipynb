{
 "cells": [
  {
   "cell_type": "markdown",
   "metadata": {},
   "source": [
    "<center> <h1> Redes Neurais Convolucionais </h1> </center>"
   ]
  },
  {
   "cell_type": "markdown",
   "metadata": {},
   "source": [
    "**Nesse notebook vou demonstrar como se utiliza a Redes Neurais Convolucionais para _classificar_ uma imagem.**  \n",
    "Nesse caso vamos utilizar o dataset que contem imagens do Homer e do Bart, personagens da animação \"Os Simpsons\".  \n",
    "Vamos treinar nossa rede neural e logo depois vamos submeter nossa rede neural a testes. Passando novas imagens para a rede neural nos dizer se a imagen é do Bart ou do Homer\n"
   ]
  },
  {
   "cell_type": "code",
   "execution_count": 3,
   "metadata": {},
   "outputs": [],
   "source": [
    "from tensorflow.keras.models import Sequential\n",
    "from tensorflow.keras.layers import Conv2D, MaxPooling2D, Flatten, Dense\n",
    "from tensorflow.python.keras.layers.normalization import BatchNormalization\n",
    "from tensorflow.keras.preprocessing.image import ImageDataGenerator\n",
    "import numpy as np\n",
    "from tensorflow.keras.preprocessing import image"
   ]
  },
  {
   "cell_type": "code",
   "execution_count": 2,
   "metadata": {},
   "outputs": [],
   "source": [
    "rnc = Sequential()\n",
    "rnc.add(Conv2D(32, (3, 3), input_shape = (64, 64, 3), activation = 'relu'))\n",
    "rnc.add(MaxPooling2D(pool_size = (2, 2)))\n",
    "\n",
    "rnc.add(Conv2D(32, (3, 3), activation = 'relu'))\n",
    "rnc.add(MaxPooling2D(pool_size = (2, 2)))\n",
    "\n",
    "rnc.add(Flatten())\n",
    "\n",
    "rnc.add(Dense(units = 4, activation = 'relu'))\n",
    "rnc.add(Dense(units = 4, activation = 'relu'))\n",
    "rnc.add(Dense(units = 1, activation = 'sigmoid'))\n",
    "rnc.compile(optimizer = 'adam', loss = 'binary_crossentropy', metrics = ['accuracy'])"
   ]
  },
  {
   "cell_type": "code",
   "execution_count": 4,
   "metadata": {},
   "outputs": [],
   "source": [
    "img_gen_train = ImageDataGenerator(rescale = 1./255, rotation_range=7, \n",
    "                                         horizontal_flip = True, shear_range=0.2,\n",
    "                                         height_shift_range=0.07, zoom_range=0.2)"
   ]
  },
  {
   "cell_type": "code",
   "execution_count": 5,
   "metadata": {},
   "outputs": [],
   "source": [
    "img_gen_test = ImageDataGenerator(rescale = 1./255)"
   ]
  },
  {
   "cell_type": "code",
   "execution_count": 6,
   "metadata": {},
   "outputs": [
    {
     "name": "stdout",
     "output_type": "stream",
     "text": [
      "Found 196 images belonging to 2 classes.\n"
     ]
    }
   ],
   "source": [
    "rnc_train = img_gen_train.flow_from_directory('dataset_personagens/training_set',\n",
    "                                                 target_size = (64, 64),\n",
    "                                                 batch_size = 1,\n",
    "                                                 class_mode = 'binary')"
   ]
  },
  {
   "cell_type": "code",
   "execution_count": 7,
   "metadata": {},
   "outputs": [
    {
     "name": "stdout",
     "output_type": "stream",
     "text": [
      "Found 73 images belonging to 2 classes.\n"
     ]
    }
   ],
   "source": [
    "rnc_test = img_gen_test.flow_from_directory('dataset_personagens/test_set',\n",
    "                                            target_size = (64, 64),\n",
    "                                            batch_size = 1,\n",
    "                                            class_mode = 'binary')"
   ]
  },
  {
   "cell_type": "code",
   "execution_count": 9,
   "metadata": {},
   "outputs": [
    {
     "name": "stdout",
     "output_type": "stream",
     "text": [
      "WARNING:tensorflow:From <ipython-input-9-f22a2274070c>:2: Model.fit_generator (from tensorflow.python.keras.engine.training) is deprecated and will be removed in a future version.\n",
      "Instructions for updating:\n",
      "Please use Model.fit, which supports generators.\n",
      "WARNING:tensorflow:sample_weight modes were coerced from\n",
      "  ...\n",
      "    to  \n",
      "  ['...']\n",
      "WARNING:tensorflow:sample_weight modes were coerced from\n",
      "  ...\n",
      "    to  \n",
      "  ['...']\n",
      "Train for 196 steps, validate for 73 steps\n",
      "Epoch 1/100\n",
      "196/196 [==============================] - 5s 28ms/step - loss: 0.6780 - accuracy: 0.6071 - val_loss: 0.6252 - val_accuracy: 0.6027\n",
      "Epoch 2/100\n",
      "196/196 [==============================] - 4s 21ms/step - loss: 0.6461 - accuracy: 0.6633 - val_loss: 0.5303 - val_accuracy: 0.6438\n",
      "Epoch 3/100\n",
      "196/196 [==============================] - 5s 24ms/step - loss: 0.5497 - accuracy: 0.7092 - val_loss: 0.4626 - val_accuracy: 0.7123\n",
      "Epoch 4/100\n",
      "196/196 [==============================] - 5s 23ms/step - loss: 0.5092 - accuracy: 0.7398 - val_loss: 0.4498 - val_accuracy: 0.7260\n",
      "Epoch 5/100\n",
      "196/196 [==============================] - 5s 23ms/step - loss: 0.4696 - accuracy: 0.8010 - val_loss: 0.4327 - val_accuracy: 0.7397\n",
      "Epoch 6/100\n",
      "196/196 [==============================] - 5s 27ms/step - loss: 0.4701 - accuracy: 0.8112 - val_loss: 0.3912 - val_accuracy: 0.8767\n",
      "Epoch 7/100\n",
      "196/196 [==============================] - 5s 24ms/step - loss: 0.4697 - accuracy: 0.7653 - val_loss: 0.4074 - val_accuracy: 0.8219\n",
      "Epoch 8/100\n",
      "196/196 [==============================] - 4s 21ms/step - loss: 0.4105 - accuracy: 0.8112 - val_loss: 0.3225 - val_accuracy: 0.8493\n",
      "Epoch 9/100\n",
      "196/196 [==============================] - 4s 22ms/step - loss: 0.3605 - accuracy: 0.8520 - val_loss: 0.3580 - val_accuracy: 0.8219\n",
      "Epoch 10/100\n",
      "196/196 [==============================] - 4s 22ms/step - loss: 0.3824 - accuracy: 0.8265 - val_loss: 0.3670 - val_accuracy: 0.8082\n",
      "Epoch 11/100\n",
      "196/196 [==============================] - 4s 22ms/step - loss: 0.3482 - accuracy: 0.8673 - val_loss: 0.2973 - val_accuracy: 0.8630\n",
      "Epoch 12/100\n",
      "196/196 [==============================] - 4s 20ms/step - loss: 0.3047 - accuracy: 0.8673 - val_loss: 0.3277 - val_accuracy: 0.8493\n",
      "Epoch 13/100\n",
      "196/196 [==============================] - 5s 24ms/step - loss: 0.3333 - accuracy: 0.8827 - val_loss: 0.3290 - val_accuracy: 0.8219\n",
      "Epoch 14/100\n",
      "196/196 [==============================] - 6s 32ms/step - loss: 0.2426 - accuracy: 0.9337 - val_loss: 0.4645 - val_accuracy: 0.8356\n",
      "Epoch 15/100\n",
      "196/196 [==============================] - 4s 21ms/step - loss: 0.3121 - accuracy: 0.8827 - val_loss: 0.2568 - val_accuracy: 0.8904\n",
      "Epoch 16/100\n",
      "196/196 [==============================] - 4s 20ms/step - loss: 0.2293 - accuracy: 0.9286 - val_loss: 0.3957 - val_accuracy: 0.8219\n",
      "Epoch 17/100\n",
      "196/196 [==============================] - 4s 19ms/step - loss: 0.2025 - accuracy: 0.9388 - val_loss: 0.2301 - val_accuracy: 0.9178\n",
      "Epoch 18/100\n",
      "196/196 [==============================] - 4s 19ms/step - loss: 0.2622 - accuracy: 0.9031 - val_loss: 0.2542 - val_accuracy: 0.8904\n",
      "Epoch 19/100\n",
      "196/196 [==============================] - 4s 20ms/step - loss: 0.2051 - accuracy: 0.9286 - val_loss: 0.2954 - val_accuracy: 0.8767\n",
      "Epoch 20/100\n",
      "196/196 [==============================] - 4s 20ms/step - loss: 0.1948 - accuracy: 0.9388 - val_loss: 0.2688 - val_accuracy: 0.8767\n",
      "Epoch 21/100\n",
      "196/196 [==============================] - 4s 19ms/step - loss: 0.1678 - accuracy: 0.9286 - val_loss: 0.2770 - val_accuracy: 0.8904\n",
      "Epoch 22/100\n",
      "196/196 [==============================] - 4s 19ms/step - loss: 0.2092 - accuracy: 0.9133 - val_loss: 0.3072 - val_accuracy: 0.8493\n",
      "Epoch 23/100\n",
      "196/196 [==============================] - 4s 19ms/step - loss: 0.1939 - accuracy: 0.9388 - val_loss: 0.3834 - val_accuracy: 0.8493\n",
      "Epoch 24/100\n",
      "196/196 [==============================] - 4s 19ms/step - loss: 0.2462 - accuracy: 0.8980 - val_loss: 0.3003 - val_accuracy: 0.9178\n",
      "Epoch 25/100\n",
      "196/196 [==============================] - 4s 20ms/step - loss: 0.1560 - accuracy: 0.9337 - val_loss: 0.3671 - val_accuracy: 0.8767\n",
      "Epoch 26/100\n",
      "196/196 [==============================] - 4s 19ms/step - loss: 0.1772 - accuracy: 0.9337 - val_loss: 0.3225 - val_accuracy: 0.8493\n",
      "Epoch 27/100\n",
      "196/196 [==============================] - 4s 19ms/step - loss: 0.2597 - accuracy: 0.9235 - val_loss: 0.2734 - val_accuracy: 0.8493\n",
      "Epoch 28/100\n",
      "196/196 [==============================] - 4s 19ms/step - loss: 0.1302 - accuracy: 0.9541 - val_loss: 0.3533 - val_accuracy: 0.8904\n",
      "Epoch 29/100\n",
      "196/196 [==============================] - 4s 19ms/step - loss: 0.1814 - accuracy: 0.9337 - val_loss: 0.3111 - val_accuracy: 0.8630\n",
      "Epoch 30/100\n",
      "196/196 [==============================] - 4s 19ms/step - loss: 0.1411 - accuracy: 0.9541 - val_loss: 0.4998 - val_accuracy: 0.8082\n",
      "Epoch 31/100\n",
      "196/196 [==============================] - 4s 19ms/step - loss: 0.2438 - accuracy: 0.9082 - val_loss: 0.3356 - val_accuracy: 0.8630\n",
      "Epoch 32/100\n",
      "196/196 [==============================] - 4s 19ms/step - loss: 0.1265 - accuracy: 0.9439 - val_loss: 0.2905 - val_accuracy: 0.9178\n",
      "Epoch 33/100\n",
      "196/196 [==============================] - 4s 19ms/step - loss: 0.1302 - accuracy: 0.9490 - val_loss: 0.3700 - val_accuracy: 0.8630\n",
      "Epoch 34/100\n",
      "196/196 [==============================] - 4s 19ms/step - loss: 0.1489 - accuracy: 0.9337 - val_loss: 0.4026 - val_accuracy: 0.8493\n",
      "Epoch 35/100\n",
      "196/196 [==============================] - 4s 19ms/step - loss: 0.0826 - accuracy: 0.9796 - val_loss: 0.3467 - val_accuracy: 0.8493\n",
      "Epoch 36/100\n",
      "196/196 [==============================] - 4s 19ms/step - loss: 0.0979 - accuracy: 0.9694 - val_loss: 0.3741 - val_accuracy: 0.8630\n",
      "Epoch 37/100\n",
      "196/196 [==============================] - 4s 19ms/step - loss: 0.1411 - accuracy: 0.9541 - val_loss: 0.5904 - val_accuracy: 0.7945\n",
      "Epoch 38/100\n",
      "196/196 [==============================] - 4s 20ms/step - loss: 0.2475 - accuracy: 0.9184 - val_loss: 0.3581 - val_accuracy: 0.8630\n",
      "Epoch 39/100\n",
      "196/196 [==============================] - 4s 20ms/step - loss: 0.0888 - accuracy: 0.9694 - val_loss: 0.3771 - val_accuracy: 0.8493\n",
      "Epoch 40/100\n",
      "196/196 [==============================] - 4s 19ms/step - loss: 0.0968 - accuracy: 0.9592 - val_loss: 0.3968 - val_accuracy: 0.8493\n",
      "Epoch 41/100\n",
      "196/196 [==============================] - 4s 19ms/step - loss: 0.1602 - accuracy: 0.9439 - val_loss: 0.4961 - val_accuracy: 0.8630\n",
      "Epoch 42/100\n",
      "196/196 [==============================] - 4s 19ms/step - loss: 0.1534 - accuracy: 0.9643 - val_loss: 0.3847 - val_accuracy: 0.8767\n",
      "Epoch 43/100\n",
      "196/196 [==============================] - 4s 19ms/step - loss: 0.1007 - accuracy: 0.9592 - val_loss: 0.4428 - val_accuracy: 0.8356\n",
      "Epoch 44/100\n",
      "196/196 [==============================] - 4s 19ms/step - loss: 0.0855 - accuracy: 0.9694 - val_loss: 0.3802 - val_accuracy: 0.8493\n",
      "Epoch 45/100\n",
      "196/196 [==============================] - 4s 19ms/step - loss: 0.1386 - accuracy: 0.9592 - val_loss: 0.3906 - val_accuracy: 0.8630\n",
      "Epoch 46/100\n",
      "196/196 [==============================] - 4s 20ms/step - loss: 0.1292 - accuracy: 0.9541 - val_loss: 0.5225 - val_accuracy: 0.7945\n",
      "Epoch 47/100\n",
      "196/196 [==============================] - 4s 19ms/step - loss: 0.1167 - accuracy: 0.9592 - val_loss: 0.3736 - val_accuracy: 0.8630\n",
      "Epoch 48/100\n",
      "196/196 [==============================] - 4s 20ms/step - loss: 0.0982 - accuracy: 0.9694 - val_loss: 0.3162 - val_accuracy: 0.8767\n",
      "Epoch 49/100\n",
      "196/196 [==============================] - 4s 21ms/step - loss: 0.0658 - accuracy: 0.9745 - val_loss: 0.4634 - val_accuracy: 0.8493\n",
      "Epoch 50/100\n",
      "196/196 [==============================] - 4s 20ms/step - loss: 0.1875 - accuracy: 0.9235 - val_loss: 0.4643 - val_accuracy: 0.8767\n",
      "Epoch 51/100\n",
      "196/196 [==============================] - 4s 19ms/step - loss: 0.1364 - accuracy: 0.9439 - val_loss: 0.3626 - val_accuracy: 0.8630\n",
      "Epoch 52/100\n",
      "196/196 [==============================] - 4s 19ms/step - loss: 0.1278 - accuracy: 0.9541 - val_loss: 0.3911 - val_accuracy: 0.8630\n",
      "Epoch 53/100\n",
      "196/196 [==============================] - 4s 20ms/step - loss: 0.1071 - accuracy: 0.9592 - val_loss: 0.4509 - val_accuracy: 0.8630\n",
      "Epoch 54/100\n"
     ]
    },
    {
     "name": "stdout",
     "output_type": "stream",
     "text": [
      "196/196 [==============================] - 4s 19ms/step - loss: 0.0768 - accuracy: 0.9796 - val_loss: 0.4713 - val_accuracy: 0.8493\n",
      "Epoch 55/100\n",
      "196/196 [==============================] - 4s 19ms/step - loss: 0.2617 - accuracy: 0.9184 - val_loss: 0.5379 - val_accuracy: 0.8356\n",
      "Epoch 56/100\n",
      "196/196 [==============================] - 4s 19ms/step - loss: 0.1217 - accuracy: 0.9439 - val_loss: 0.4277 - val_accuracy: 0.8767\n",
      "Epoch 57/100\n",
      "196/196 [==============================] - 4s 19ms/step - loss: 0.1303 - accuracy: 0.9490 - val_loss: 0.4360 - val_accuracy: 0.8493\n",
      "Epoch 58/100\n",
      "196/196 [==============================] - 4s 19ms/step - loss: 0.1186 - accuracy: 0.9541 - val_loss: 0.4464 - val_accuracy: 0.8767\n",
      "Epoch 59/100\n",
      "196/196 [==============================] - 4s 20ms/step - loss: 0.0714 - accuracy: 0.9694 - val_loss: 0.4413 - val_accuracy: 0.8630\n",
      "Epoch 60/100\n",
      "196/196 [==============================] - 4s 19ms/step - loss: 0.1242 - accuracy: 0.9439 - val_loss: 0.4759 - val_accuracy: 0.8356\n",
      "Epoch 61/100\n",
      "196/196 [==============================] - 4s 19ms/step - loss: 0.0886 - accuracy: 0.9592 - val_loss: 0.4044 - val_accuracy: 0.8493\n",
      "Epoch 62/100\n",
      "196/196 [==============================] - 4s 20ms/step - loss: 0.0992 - accuracy: 0.9643 - val_loss: 0.3956 - val_accuracy: 0.8356\n",
      "Epoch 63/100\n",
      "196/196 [==============================] - 4s 19ms/step - loss: 0.0561 - accuracy: 0.9796 - val_loss: 0.3766 - val_accuracy: 0.8767\n",
      "Epoch 64/100\n",
      "196/196 [==============================] - 4s 19ms/step - loss: 0.1558 - accuracy: 0.9592 - val_loss: 0.4295 - val_accuracy: 0.8493\n",
      "Epoch 65/100\n",
      "196/196 [==============================] - 7s 34ms/step - loss: 0.0853 - accuracy: 0.9643 - val_loss: 0.3473 - val_accuracy: 0.8630\n",
      "Epoch 66/100\n",
      "196/196 [==============================] - 5s 27ms/step - loss: 0.1512 - accuracy: 0.9388 - val_loss: 0.5404 - val_accuracy: 0.8493\n",
      "Epoch 67/100\n",
      "196/196 [==============================] - 6s 28ms/step - loss: 0.0842 - accuracy: 0.9694 - val_loss: 0.3846 - val_accuracy: 0.8630\n",
      "Epoch 68/100\n",
      "196/196 [==============================] - 7s 34ms/step - loss: 0.0833 - accuracy: 0.9694 - val_loss: 0.3751 - val_accuracy: 0.8767\n",
      "Epoch 69/100\n",
      "196/196 [==============================] - 4s 22ms/step - loss: 0.0983 - accuracy: 0.9592 - val_loss: 0.3910 - val_accuracy: 0.8219\n",
      "Epoch 70/100\n",
      "196/196 [==============================] - 4s 22ms/step - loss: 0.1043 - accuracy: 0.9643 - val_loss: 0.4999 - val_accuracy: 0.8493\n",
      "Epoch 71/100\n",
      "196/196 [==============================] - 4s 22ms/step - loss: 0.1492 - accuracy: 0.9388 - val_loss: 0.4453 - val_accuracy: 0.8630\n",
      "Epoch 72/100\n",
      "196/196 [==============================] - 5s 28ms/step - loss: 0.0697 - accuracy: 0.9694 - val_loss: 0.4555 - val_accuracy: 0.8356\n",
      "Epoch 73/100\n",
      "196/196 [==============================] - 4s 22ms/step - loss: 0.0551 - accuracy: 0.9796 - val_loss: 0.4732 - val_accuracy: 0.8630\n",
      "Epoch 74/100\n",
      "196/196 [==============================] - 7s 34ms/step - loss: 0.1135 - accuracy: 0.9541 - val_loss: 0.6743 - val_accuracy: 0.8356\n",
      "Epoch 75/100\n",
      "196/196 [==============================] - 6s 33ms/step - loss: 0.1279 - accuracy: 0.9490 - val_loss: 0.4967 - val_accuracy: 0.8493\n",
      "Epoch 76/100\n",
      "196/196 [==============================] - 8s 39ms/step - loss: 0.0926 - accuracy: 0.9643 - val_loss: 0.4786 - val_accuracy: 0.8767\n",
      "Epoch 77/100\n",
      "196/196 [==============================] - 5s 26ms/step - loss: 0.0930 - accuracy: 0.9592 - val_loss: 0.4172 - val_accuracy: 0.8493\n",
      "Epoch 78/100\n",
      "196/196 [==============================] - 4s 22ms/step - loss: 0.0550 - accuracy: 0.9745 - val_loss: 0.4682 - val_accuracy: 0.8630\n",
      "Epoch 79/100\n",
      "196/196 [==============================] - 4s 21ms/step - loss: 0.0929 - accuracy: 0.9643 - val_loss: 0.4295 - val_accuracy: 0.8630\n",
      "Epoch 80/100\n",
      "196/196 [==============================] - 4s 20ms/step - loss: 0.1089 - accuracy: 0.9643 - val_loss: 0.3279 - val_accuracy: 0.8904\n",
      "Epoch 81/100\n",
      "196/196 [==============================] - 4s 22ms/step - loss: 0.0471 - accuracy: 0.9796 - val_loss: 0.3554 - val_accuracy: 0.9041\n",
      "Epoch 82/100\n",
      "196/196 [==============================] - 4s 23ms/step - loss: 0.0864 - accuracy: 0.9643 - val_loss: 0.4269 - val_accuracy: 0.9041\n",
      "Epoch 83/100\n",
      "196/196 [==============================] - 4s 20ms/step - loss: 0.0817 - accuracy: 0.9796 - val_loss: 0.4539 - val_accuracy: 0.8767\n",
      "Epoch 84/100\n",
      "196/196 [==============================] - 5s 26ms/step - loss: 0.0668 - accuracy: 0.9796 - val_loss: 0.4117 - val_accuracy: 0.9041\n",
      "Epoch 85/100\n",
      "196/196 [==============================] - 8s 39ms/step - loss: 0.0539 - accuracy: 0.9847 - val_loss: 0.4131 - val_accuracy: 0.9041- loss: 0.0580 - ac\n",
      "Epoch 86/100\n",
      "196/196 [==============================] - 5s 24ms/step - loss: 0.0471 - accuracy: 0.9796 - val_loss: 0.4401 - val_accuracy: 0.8767\n",
      "Epoch 87/100\n",
      "196/196 [==============================] - 4s 23ms/step - loss: 0.0233 - accuracy: 0.9898 - val_loss: 0.4531 - val_accuracy: 0.8767\n",
      "Epoch 88/100\n",
      "196/196 [==============================] - 5s 26ms/step - loss: 0.0760 - accuracy: 0.9643 - val_loss: 0.3933 - val_accuracy: 0.8904\n",
      "Epoch 89/100\n",
      "196/196 [==============================] - 4s 21ms/step - loss: 0.1378 - accuracy: 0.9439 - val_loss: 0.5463 - val_accuracy: 0.8356\n",
      "Epoch 90/100\n",
      "196/196 [==============================] - 4s 20ms/step - loss: 0.0910 - accuracy: 0.9643 - val_loss: 0.5047 - val_accuracy: 0.8356\n",
      "Epoch 91/100\n",
      "196/196 [==============================] - 4s 20ms/step - loss: 0.0572 - accuracy: 0.9745 - val_loss: 0.5631 - val_accuracy: 0.8630\n",
      "Epoch 92/100\n",
      "196/196 [==============================] - 4s 23ms/step - loss: 0.0494 - accuracy: 0.9694 - val_loss: 0.4933 - val_accuracy: 0.8767\n",
      "Epoch 93/100\n",
      "196/196 [==============================] - 4s 21ms/step - loss: 0.1220 - accuracy: 0.9592 - val_loss: 0.4668 - val_accuracy: 0.8767\n",
      "Epoch 94/100\n",
      "196/196 [==============================] - 4s 20ms/step - loss: 0.0410 - accuracy: 0.9898 - val_loss: 0.4348 - val_accuracy: 0.8904\n",
      "Epoch 95/100\n",
      "196/196 [==============================] - 5s 25ms/step - loss: 0.1179 - accuracy: 0.9490 - val_loss: 0.4508 - val_accuracy: 0.8493\n",
      "Epoch 96/100\n",
      "196/196 [==============================] - 5s 25ms/step - loss: 0.0557 - accuracy: 0.9796 - val_loss: 0.5132 - val_accuracy: 0.8630\n",
      "Epoch 97/100\n",
      "196/196 [==============================] - 4s 21ms/step - loss: 0.0642 - accuracy: 0.9796 - val_loss: 0.4840 - val_accuracy: 0.8767\n",
      "Epoch 98/100\n",
      "196/196 [==============================] - 4s 20ms/step - loss: 0.0477 - accuracy: 0.9847 - val_loss: 0.5046 - val_accuracy: 0.8493\n",
      "Epoch 99/100\n",
      "196/196 [==============================] - 4s 20ms/step - loss: 0.0193 - accuracy: 0.9898 - val_loss: 0.4848 - val_accuracy: 0.8493\n",
      "Epoch 100/100\n",
      "196/196 [==============================] - 4s 21ms/step - loss: 0.0989 - accuracy: 0.9541 - val_loss: 0.5012 - val_accuracy: 0.8630\n"
     ]
    },
    {
     "data": {
      "text/plain": [
       "<tensorflow.python.keras.callbacks.History at 0x71ccd30>"
      ]
     },
     "execution_count": 9,
     "metadata": {},
     "output_type": "execute_result"
    }
   ],
   "source": [
    "rnc.fit_generator(rnc_train, steps_per_epoch = 196, epochs = 100,\n",
    "                         validation_data = rnc_test, validation_steps = 73)"
   ]
  },
  {
   "cell_type": "markdown",
   "metadata": {},
   "source": [
    "# Predição de uma imagem"
   ]
  },
  {
   "cell_type": "markdown",
   "metadata": {},
   "source": [
    "![bart1](bart1.bmp \"bart1\")"
   ]
  },
  {
   "cell_type": "markdown",
   "metadata": {},
   "source": [
    "Vamos submeter a imagem a cima para classificar a imagem o endereço dessa imagem é passado na celula a baixo.  \n",
    "Poderiamos passar outra imagem tambem, para testar é só passarmos outra imagem do Bart ou do Homer contida no nosso dataset, ou qualquer outra na internet que se encaixe aqui"
   ]
  },
  {
   "cell_type": "code",
   "execution_count": 15,
   "metadata": {
    "scrolled": true
   },
   "outputs": [],
   "source": [
    "img_test = image.load_img('dataset_personagens/test_set/bart/bart1.bmp', target_size = (64,64))"
   ]
  },
  {
   "cell_type": "code",
   "execution_count": 16,
   "metadata": {},
   "outputs": [],
   "source": [
    "img_test = image.img_to_array(img_test)"
   ]
  },
  {
   "cell_type": "code",
   "execution_count": 17,
   "metadata": {},
   "outputs": [],
   "source": [
    "img_test /= 255 "
   ]
  },
  {
   "cell_type": "code",
   "execution_count": 18,
   "metadata": {},
   "outputs": [],
   "source": [
    "img_test = np.expand_dims(img_test, axis = 0)"
   ]
  },
  {
   "cell_type": "code",
   "execution_count": 19,
   "metadata": {},
   "outputs": [],
   "source": [
    "pred = rnc.predict(img_test)"
   ]
  },
  {
   "cell_type": "code",
   "execution_count": 20,
   "metadata": {},
   "outputs": [],
   "source": [
    "indx_classe = rnc_train.class_indices"
   ]
  },
  {
   "cell_type": "code",
   "execution_count": 21,
   "metadata": {},
   "outputs": [
    {
     "data": {
      "text/plain": [
       "{'bart': 0, 'homer': 1}"
      ]
     },
     "execution_count": 21,
     "metadata": {},
     "output_type": "execute_result"
    }
   ],
   "source": [
    "indx_classe"
   ]
  },
  {
   "cell_type": "code",
   "execution_count": 68,
   "metadata": {},
   "outputs": [],
   "source": [
    "resultado = (pred > 0.5)"
   ]
  },
  {
   "cell_type": "code",
   "execution_count": 69,
   "metadata": {},
   "outputs": [
    {
     "data": {
      "text/plain": [
       "array([[False]])"
      ]
     },
     "execution_count": 69,
     "metadata": {},
     "output_type": "execute_result"
    }
   ],
   "source": [
    "resultado"
   ]
  },
  {
   "cell_type": "code",
   "execution_count": 70,
   "metadata": {},
   "outputs": [
    {
     "data": {
      "text/plain": [
       "False"
      ]
     },
     "execution_count": 70,
     "metadata": {},
     "output_type": "execute_result"
    }
   ],
   "source": [
    "resultado = bool(resultado)\n",
    "resultado"
   ]
  },
  {
   "cell_type": "code",
   "execution_count": 71,
   "metadata": {},
   "outputs": [],
   "source": [
    "if resultado == False:\n",
    "    resultado = 'A imagem submetida a teste é do Bart'\n",
    "else:\n",
    "    resultado = 'A imagem submetida a teste é do Homer'"
   ]
  },
  {
   "cell_type": "code",
   "execution_count": 72,
   "metadata": {},
   "outputs": [
    {
     "data": {
      "text/plain": [
       "'A imagem submetida a teste é do Bart'"
      ]
     },
     "execution_count": 72,
     "metadata": {},
     "output_type": "execute_result"
    }
   ],
   "source": [
    "resultado"
   ]
  }
 ],
 "metadata": {
  "kernelspec": {
   "display_name": "Python 3",
   "language": "python",
   "name": "python3"
  },
  "language_info": {
   "codemirror_mode": {
    "name": "ipython",
    "version": 3
   },
   "file_extension": ".py",
   "mimetype": "text/x-python",
   "name": "python",
   "nbconvert_exporter": "python",
   "pygments_lexer": "ipython3",
   "version": "3.6.9"
  }
 },
 "nbformat": 4,
 "nbformat_minor": 2
}
